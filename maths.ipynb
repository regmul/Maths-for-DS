{
 "cells": [
  {
   "cell_type": "markdown",
   "id": "4c0d7e0c",
   "metadata": {},
   "source": [
    "MATHS FOR DATA SCIENCE"
   ]
  },
  {
   "cell_type": "code",
   "execution_count": 1,
   "id": "944b1551",
   "metadata": {},
   "outputs": [],
   "source": [
    "import statistics as stats"
   ]
  },
  {
   "cell_type": "code",
   "execution_count": 2,
   "id": "b6fbe18c",
   "metadata": {},
   "outputs": [],
   "source": [
    "# sample data\n",
    "x=(10,14,5,10,15,25,19,37)"
   ]
  },
  {
   "cell_type": "code",
   "execution_count": 3,
   "id": "e9da349f",
   "metadata": {},
   "outputs": [
    {
     "name": "stdout",
     "output_type": "stream",
     "text": [
      "(10, 14, 5, 10, 15, 25, 19, 37)\n"
     ]
    }
   ],
   "source": [
    "print(x)"
   ]
  },
  {
   "cell_type": "markdown",
   "id": "3f731f76",
   "metadata": {},
   "source": [
    "Lets find the mean"
   ]
  },
  {
   "cell_type": "code",
   "execution_count": 4,
   "id": "f913578d",
   "metadata": {},
   "outputs": [],
   "source": [
    "mean=stats.mean(x)"
   ]
  },
  {
   "cell_type": "code",
   "execution_count": 5,
   "id": "77ef146d",
   "metadata": {},
   "outputs": [
    {
     "name": "stdout",
     "output_type": "stream",
     "text": [
      "16.875\n"
     ]
    }
   ],
   "source": [
    "print(mean)"
   ]
  },
  {
   "cell_type": "code",
   "execution_count": null,
   "id": "2ca3e615",
   "metadata": {},
   "outputs": [],
   "source": []
  }
 ],
 "metadata": {
  "kernelspec": {
   "display_name": ".venv",
   "language": "python",
   "name": "python3"
  },
  "language_info": {
   "codemirror_mode": {
    "name": "ipython",
    "version": 3
   },
   "file_extension": ".py",
   "mimetype": "text/x-python",
   "name": "python",
   "nbconvert_exporter": "python",
   "pygments_lexer": "ipython3",
   "version": "3.13.3"
  }
 },
 "nbformat": 4,
 "nbformat_minor": 5
}
